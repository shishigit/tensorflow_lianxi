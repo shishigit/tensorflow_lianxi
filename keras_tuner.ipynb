{
 "cells": [
  {
   "cell_type": "markdown",
   "metadata": {
    "colab_type": "text",
    "id": "qFdPvlXBOdUN"
   },
   "source": [
    "# Introduction to the Keras Tuner"
   ]
  },
  {
   "cell_type": "code",
   "execution_count": 2,
   "metadata": {
    "colab": {},
    "colab_type": "code",
    "id": "IqR2PQG4ZaZ0",
    "pycharm": {
     "name": "#%%\n"
    }
   },
   "outputs": [],
   "source": [
    "import tensorflow as tf\n",
    "from tensorflow import keras\n",
    "\n",
    "import IPython"
   ]
  },
  {
   "cell_type": "code",
   "execution_count": 3,
   "metadata": {
    "colab": {},
    "colab_type": "code",
    "id": "_leAIdFKAxAD",
    "pycharm": {
     "name": "#%%\n"
    }
   },
   "outputs": [],
   "source": [
    "import kerastuner as kt"
   ]
  },
  {
   "cell_type": "code",
   "execution_count": 7,
   "metadata": {
    "colab": {},
    "colab_type": "code",
    "id": "oichQFly6Y46"
   },
   "outputs": [],
   "source": [
    "(img_train, label_train), (img_test, label_test) = keras.datasets.fashion_mnist.load_data()"
   ]
  },
  {
   "cell_type": "markdown",
   "metadata": {
    "colab_type": "text",
    "id": "VaIhhdKf9VtI"
   },
   "source": [
    "The Hyperband tuning algorithm uses adaptive resource allocation and early-stopping to quickly converge on a high-performing model. This is done using a sports championship style bracket. The algorithm trains a large number of models for a few epochs and carries forward only the top-performing half of models to the next round. Hyperband determines the number of models to train in a bracket by computing 1 + log<sub>`factor`</sub>(`max_epochs`) and rounding it up to the nearest integer."
   ]
  },
  {
   "cell_type": "markdown",
   "metadata": {
    "colab_type": "text",
    "id": "oTeamrUWOJRb"
   },
   "source": [
    "Before running the hyperparameter search, define a callback to clear the training outputs at the end of every training step."
   ]
  },
  {
   "cell_type": "code",
   "execution_count": 8,
   "metadata": {
    "colab": {},
    "colab_type": "code",
    "id": "Bbr_8QE76PJd"
   },
   "outputs": [],
   "source": [
    "class ClearTrainingOutput(tf.keras.callbacks.Callback):\n",
    "  def on_train_end(*args, **kwargs):\n",
    "    IPython.display.clear_output(wait = True)"
   ]
  },
  {
   "cell_type": "markdown",
   "metadata": {
    "colab_type": "text",
    "id": "UKghEo15Tduy"
   },
   "source": [
    "Run the hyperparameter search. The arguments for the search method are the same as those used for `tf.keras.model.fit` in addition to the callback above."
   ]
  },
  {
   "cell_type": "code",
   "execution_count": 9,
   "metadata": {
    "colab": {},
    "colab_type": "code",
    "id": "dSBQcTHF9cKt"
   },
   "outputs": [
    {
     "data": {
      "text/html": [
       "<span style=\"color:#4527A0\"><h1 style=\"font-size:18px\">Trial complete</h1></span>"
      ],
      "text/plain": [
       "<IPython.core.display.HTML object>"
      ]
     },
     "metadata": {},
     "output_type": "display_data"
    },
    {
     "data": {
      "text/html": [
       "<span style=\"color:#4527A0\"><h1 style=\"font-size:18px\">Trial summary</h1></span>"
      ],
      "text/plain": [
       "<IPython.core.display.HTML object>"
      ]
     },
     "metadata": {},
     "output_type": "display_data"
    },
    {
     "data": {
      "text/html": [
       "<span style=\"color:cyan\"> |-Trial ID: b04b988b5e1a58e5c8541c00912ed745</span>"
      ],
      "text/plain": [
       "<IPython.core.display.HTML object>"
      ]
     },
     "metadata": {},
     "output_type": "display_data"
    },
    {
     "data": {
      "text/html": [
       "<span style=\"color:cyan\"> |-Score: 0.8532000184059143</span>"
      ],
      "text/plain": [
       "<IPython.core.display.HTML object>"
      ]
     },
     "metadata": {},
     "output_type": "display_data"
    },
    {
     "data": {
      "text/html": [
       "<span style=\"color:cyan\"> |-Best step: 0</span>"
      ],
      "text/plain": [
       "<IPython.core.display.HTML object>"
      ]
     },
     "metadata": {},
     "output_type": "display_data"
    },
    {
     "data": {
      "text/html": [
       "<span style=\"color:#7E57C2\"><h2 style=\"font-size:16px\">Hyperparameters:</h2></span>"
      ],
      "text/plain": [
       "<IPython.core.display.HTML object>"
      ]
     },
     "metadata": {},
     "output_type": "display_data"
    },
    {
     "data": {
      "text/html": [
       "<span style=\"color:cyan\"> |-learning_rate: 0.001</span>"
      ],
      "text/plain": [
       "<IPython.core.display.HTML object>"
      ]
     },
     "metadata": {},
     "output_type": "display_data"
    },
    {
     "data": {
      "text/html": [
       "<span style=\"color:blue\"> |-tuner/bracket: 2</span>"
      ],
      "text/plain": [
       "<IPython.core.display.HTML object>"
      ]
     },
     "metadata": {},
     "output_type": "display_data"
    },
    {
     "data": {
      "text/html": [
       "<span style=\"color:cyan\"> |-tuner/epochs: 4</span>"
      ],
      "text/plain": [
       "<IPython.core.display.HTML object>"
      ]
     },
     "metadata": {},
     "output_type": "display_data"
    },
    {
     "data": {
      "text/html": [
       "<span style=\"color:blue\"> |-tuner/initial_epoch: 2</span>"
      ],
      "text/plain": [
       "<IPython.core.display.HTML object>"
      ]
     },
     "metadata": {},
     "output_type": "display_data"
    },
    {
     "data": {
      "text/html": [
       "<span style=\"color:cyan\"> |-tuner/round: 1</span>"
      ],
      "text/plain": [
       "<IPython.core.display.HTML object>"
      ]
     },
     "metadata": {},
     "output_type": "display_data"
    },
    {
     "data": {
      "text/html": [
       "<span style=\"color:blue\"> |-tuner/trial_id: 16755ddc2f070b26c89beb1d29aa71d9</span>"
      ],
      "text/plain": [
       "<IPython.core.display.HTML object>"
      ]
     },
     "metadata": {},
     "output_type": "display_data"
    },
    {
     "data": {
      "text/html": [
       "<span style=\"color:cyan\"> |-units: 352</span>"
      ],
      "text/plain": [
       "<IPython.core.display.HTML object>"
      ]
     },
     "metadata": {},
     "output_type": "display_data"
    },
    {
     "name": "stdout",
     "output_type": "stream",
     "text": [
      "Epoch 3/4\n",
      "1724/1875 [==========================>...] - ETA: 0s - loss: 2.3246 - accuracy: 0.15 - ETA: 2s - loss: 1.1838 - accuracy: 0.58 - ETA: 2s - loss: 0.9686 - accuracy: 0.65 - ETA: 2s - loss: 0.8698 - accuracy: 0.69 - ETA: 2s - loss: 0.8073 - accuracy: 0.71 - ETA: 2s - loss: 0.7717 - accuracy: 0.72 - ETA: 2s - loss: 0.7344 - accuracy: 0.73 - ETA: 2s - loss: 0.7098 - accuracy: 0.74 - ETA: 2s - loss: 0.6861 - accuracy: 0.75 - ETA: 2s - loss: 0.6780 - accuracy: 0.76 - ETA: 2s - loss: 0.6640 - accuracy: 0.76 - ETA: 2s - loss: 0.6510 - accuracy: 0.77 - ETA: 2s - loss: 0.6355 - accuracy: 0.77 - ETA: 2s - loss: 0.6252 - accuracy: 0.78 - ETA: 2s - loss: 0.6164 - accuracy: 0.78 - ETA: 2s - loss: 0.6060 - accuracy: 0.78 - ETA: 2s - loss: 0.6026 - accuracy: 0.78 - ETA: 1s - loss: 0.5937 - accuracy: 0.79 - ETA: 1s - loss: 0.5863 - accuracy: 0.79 - ETA: 1s - loss: 0.5785 - accuracy: 0.79 - ETA: 1s - loss: 0.5726 - accuracy: 0.79 - ETA: 1s - loss: 0.5661 - accuracy: 0.80 - ETA: 1s - loss: 0.5608 - accuracy: 0.80 - ETA: 1s - loss: 0.5558 - accuracy: 0.80 - ETA: 1s - loss: 0.5520 - accuracy: 0.80 - ETA: 1s - loss: 0.5499 - accuracy: 0.80 - ETA: 1s - loss: 0.5466 - accuracy: 0.80 - ETA: 1s - loss: 0.5431 - accuracy: 0.80 - ETA: 1s - loss: 0.5399 - accuracy: 0.80 - ETA: 1s - loss: 0.5363 - accuracy: 0.81 - ETA: 1s - loss: 0.5322 - accuracy: 0.81 - ETA: 1s - loss: 0.5274 - accuracy: 0.81 - ETA: 1s - loss: 0.5258 - accuracy: 0.81 - ETA: 1s - loss: 0.5230 - accuracy: 0.81 - ETA: 1s - loss: 0.5199 - accuracy: 0.81 - ETA: 1s - loss: 0.5187 - accuracy: 0.81 - ETA: 1s - loss: 0.5156 - accuracy: 0.81 - ETA: 0s - loss: 0.5147 - accuracy: 0.81 - ETA: 0s - loss: 0.5128 - accuracy: 0.81 - ETA: 0s - loss: 0.5119 - accuracy: 0.81 - ETA: 0s - loss: 0.5097 - accuracy: 0.81 - ETA: 0s - loss: 0.5073 - accuracy: 0.82 - ETA: 0s - loss: 0.5062 - accuracy: 0.82 - ETA: 0s - loss: 0.5042 - accuracy: 0.82 - ETA: 0s - loss: 0.5018 - accuracy: 0.82 - ETA: 0s - loss: 0.5005 - accuracy: 0.82 - ETA: 0s - loss: 0.4994 - accuracy: 0.82 - ETA: 0s - loss: 0.4981 - accuracy: 0.82 - ETA: 0s - loss: 0.4973 - accuracy: 0.82 - ETA: 0s - loss: 0.4953 - accuracy: 0.82 - ETA: 0s - loss: 0.4934 - accuracy: 0.82 - ETA: 0s - loss: 0.4914 - accuracy: 0.82 - ETA: 0s - loss: 0.4897 - accuracy: 0.82"
     ]
    }
   ],
   "source": [
    "tuner.search(img_train, label_train, epochs = 10, validation_data = (img_test, label_test), callbacks = [ClearTrainingOutput()])\n",
    "\n",
    "# Get the optimal hyperparameters\n",
    "best_hps = tuner.get_best_hyperparameters(num_trials = 1)[0]\n",
    "\n",
    "print(f\"\"\"\n",
    "The hyperparameter search is complete. The optimal number of units in the first densely-connected\n",
    "layer is {best_hps.get('units')} and the optimal learning rate for the optimizer\n",
    "is {best_hps.get('learning_rate')}.\n",
    "\"\"\")"
   ]
  },
  {
   "cell_type": "markdown",
   "metadata": {
    "colab_type": "text",
    "id": "Lak_ylf88xBv"
   },
   "source": [
    "To finish this tutorial, retrain the model with the optimal hyperparameters from the search."
   ]
  },
  {
   "cell_type": "code",
   "execution_count": 10,
   "metadata": {
    "colab": {},
    "colab_type": "code",
    "id": "McO82AXOuxXh"
   },
   "outputs": [
    {
     "name": "stdout",
     "output_type": "stream",
     "text": [
      "Epoch 1/10\n",
      "1875/1875 [==============================] - ETA: 0s - loss: 2.4646 - accuracy: 0.12 - ETA: 2s - loss: 1.2394 - accuracy: 0.58 - ETA: 2s - loss: 0.9943 - accuracy: 0.65 - ETA: 2s - loss: 0.8872 - accuracy: 0.68 - ETA: 2s - loss: 0.8305 - accuracy: 0.71 - ETA: 2s - loss: 0.7955 - accuracy: 0.72 - ETA: 2s - loss: 0.7567 - accuracy: 0.73 - ETA: 2s - loss: 0.7364 - accuracy: 0.74 - ETA: 2s - loss: 0.7210 - accuracy: 0.74 - ETA: 2s - loss: 0.6982 - accuracy: 0.75 - ETA: 2s - loss: 0.6836 - accuracy: 0.76 - ETA: 2s - loss: 0.6701 - accuracy: 0.76 - ETA: 2s - loss: 0.6620 - accuracy: 0.76 - ETA: 2s - loss: 0.6486 - accuracy: 0.77 - ETA: 2s - loss: 0.6399 - accuracy: 0.77 - ETA: 2s - loss: 0.6335 - accuracy: 0.77 - ETA: 1s - loss: 0.6238 - accuracy: 0.78 - ETA: 1s - loss: 0.6184 - accuracy: 0.78 - ETA: 1s - loss: 0.6117 - accuracy: 0.78 - ETA: 1s - loss: 0.6068 - accuracy: 0.78 - ETA: 1s - loss: 0.5986 - accuracy: 0.79 - ETA: 1s - loss: 0.5913 - accuracy: 0.79 - ETA: 1s - loss: 0.5881 - accuracy: 0.79 - ETA: 1s - loss: 0.5839 - accuracy: 0.79 - ETA: 1s - loss: 0.5785 - accuracy: 0.79 - ETA: 1s - loss: 0.5736 - accuracy: 0.79 - ETA: 1s - loss: 0.5693 - accuracy: 0.80 - ETA: 1s - loss: 0.5665 - accuracy: 0.80 - ETA: 1s - loss: 0.5612 - accuracy: 0.80 - ETA: 1s - loss: 0.5575 - accuracy: 0.80 - ETA: 1s - loss: 0.5517 - accuracy: 0.80 - ETA: 1s - loss: 0.5490 - accuracy: 0.80 - ETA: 1s - loss: 0.5456 - accuracy: 0.80 - ETA: 1s - loss: 0.5418 - accuracy: 0.80 - ETA: 1s - loss: 0.5388 - accuracy: 0.81 - ETA: 1s - loss: 0.5357 - accuracy: 0.81 - ETA: 0s - loss: 0.5325 - accuracy: 0.81 - ETA: 0s - loss: 0.5300 - accuracy: 0.81 - ETA: 0s - loss: 0.5268 - accuracy: 0.81 - ETA: 0s - loss: 0.5245 - accuracy: 0.81 - ETA: 0s - loss: 0.5220 - accuracy: 0.81 - ETA: 0s - loss: 0.5201 - accuracy: 0.81 - ETA: 0s - loss: 0.5174 - accuracy: 0.81 - ETA: 0s - loss: 0.5148 - accuracy: 0.81 - ETA: 0s - loss: 0.5125 - accuracy: 0.81 - ETA: 0s - loss: 0.5093 - accuracy: 0.81 - ETA: 0s - loss: 0.5061 - accuracy: 0.82 - ETA: 0s - loss: 0.5040 - accuracy: 0.82 - ETA: 0s - loss: 0.5021 - accuracy: 0.82 - ETA: 0s - loss: 0.4994 - accuracy: 0.82 - ETA: 0s - loss: 0.4986 - accuracy: 0.82 - ETA: 0s - loss: 0.4972 - accuracy: 0.82 - ETA: 0s - loss: 0.4952 - accuracy: 0.82 - ETA: 0s - loss: 0.4928 - accuracy: 0.82 - ETA: 0s - loss: 0.4919 - accuracy: 0.82 - ETA: 0s - loss: 0.4904 - accuracy: 0.82 - 3s 2ms/step - loss: 0.4902 - accuracy: 0.8264 - val_loss: 0.4194 - val_accuracy: 0.8474\n",
      "Epoch 2/10\n",
      "1875/1875 [==============================] - ETA: 0s - loss: 0.2788 - accuracy: 0.90 - ETA: 2s - loss: 0.3577 - accuracy: 0.86 - ETA: 2s - loss: 0.3576 - accuracy: 0.86 - ETA: 2s - loss: 0.3676 - accuracy: 0.85 - ETA: 2s - loss: 0.3573 - accuracy: 0.86 - ETA: 2s - loss: 0.3570 - accuracy: 0.86 - ETA: 2s - loss: 0.3660 - accuracy: 0.86 - ETA: 2s - loss: 0.3707 - accuracy: 0.86 - ETA: 2s - loss: 0.3700 - accuracy: 0.86 - ETA: 2s - loss: 0.3695 - accuracy: 0.86 - ETA: 2s - loss: 0.3705 - accuracy: 0.86 - ETA: 2s - loss: 0.3727 - accuracy: 0.86 - ETA: 2s - loss: 0.3728 - accuracy: 0.86 - ETA: 2s - loss: 0.3736 - accuracy: 0.86 - ETA: 2s - loss: 0.3735 - accuracy: 0.86 - ETA: 1s - loss: 0.3733 - accuracy: 0.86 - ETA: 1s - loss: 0.3734 - accuracy: 0.86 - ETA: 1s - loss: 0.3758 - accuracy: 0.86 - ETA: 1s - loss: 0.3765 - accuracy: 0.86 - ETA: 1s - loss: 0.3775 - accuracy: 0.86 - ETA: 1s - loss: 0.3782 - accuracy: 0.86 - ETA: 1s - loss: 0.3759 - accuracy: 0.86 - ETA: 1s - loss: 0.3737 - accuracy: 0.86 - ETA: 1s - loss: 0.3731 - accuracy: 0.86 - ETA: 1s - loss: 0.3741 - accuracy: 0.86 - ETA: 1s - loss: 0.3743 - accuracy: 0.86 - ETA: 1s - loss: 0.3736 - accuracy: 0.86 - ETA: 1s - loss: 0.3737 - accuracy: 0.86 - ETA: 1s - loss: 0.3727 - accuracy: 0.86 - ETA: 1s - loss: 0.3723 - accuracy: 0.86 - ETA: 1s - loss: 0.3710 - accuracy: 0.86 - ETA: 1s - loss: 0.3712 - accuracy: 0.86 - ETA: 1s - loss: 0.3718 - accuracy: 0.86 - ETA: 1s - loss: 0.3715 - accuracy: 0.86 - ETA: 1s - loss: 0.3704 - accuracy: 0.86 - ETA: 0s - loss: 0.3691 - accuracy: 0.86 - ETA: 0s - loss: 0.3690 - accuracy: 0.86 - ETA: 0s - loss: 0.3686 - accuracy: 0.86 - ETA: 0s - loss: 0.3695 - accuracy: 0.86 - ETA: 0s - loss: 0.3694 - accuracy: 0.86 - ETA: 0s - loss: 0.3698 - accuracy: 0.86 - ETA: 0s - loss: 0.3699 - accuracy: 0.86 - ETA: 0s - loss: 0.3694 - accuracy: 0.86 - ETA: 0s - loss: 0.3695 - accuracy: 0.86 - ETA: 0s - loss: 0.3692 - accuracy: 0.86 - ETA: 0s - loss: 0.3685 - accuracy: 0.86 - ETA: 0s - loss: 0.3675 - accuracy: 0.86 - ETA: 0s - loss: 0.3665 - accuracy: 0.86 - ETA: 0s - loss: 0.3662 - accuracy: 0.86 - ETA: 0s - loss: 0.3658 - accuracy: 0.86 - ETA: 0s - loss: 0.3660 - accuracy: 0.86 - ETA: 0s - loss: 0.3656 - accuracy: 0.86 - ETA: 0s - loss: 0.3647 - accuracy: 0.86 - ETA: 0s - loss: 0.3648 - accuracy: 0.86 - ETA: 0s - loss: 0.3642 - accuracy: 0.86 - 3s 2ms/step - loss: 0.3640 - accuracy: 0.8665 - val_loss: 0.3719 - val_accuracy: 0.8633\n",
      "Epoch 3/10\n",
      "1875/1875 [==============================] - ETA: 0s - loss: 0.2119 - accuracy: 0.90 - ETA: 2s - loss: 0.3109 - accuracy: 0.88 - ETA: 2s - loss: 0.3078 - accuracy: 0.88 - ETA: 2s - loss: 0.3036 - accuracy: 0.88 - ETA: 2s - loss: 0.3020 - accuracy: 0.88 - ETA: 2s - loss: 0.3155 - accuracy: 0.88 - ETA: 2s - loss: 0.3125 - accuracy: 0.88 - ETA: 2s - loss: 0.3173 - accuracy: 0.88 - ETA: 2s - loss: 0.3204 - accuracy: 0.88 - ETA: 2s - loss: 0.3223 - accuracy: 0.88 - ETA: 2s - loss: 0.3198 - accuracy: 0.88 - ETA: 2s - loss: 0.3213 - accuracy: 0.88 - ETA: 2s - loss: 0.3213 - accuracy: 0.88 - ETA: 2s - loss: 0.3229 - accuracy: 0.88 - ETA: 1s - loss: 0.3263 - accuracy: 0.87 - ETA: 1s - loss: 0.3253 - accuracy: 0.88 - ETA: 1s - loss: 0.3271 - accuracy: 0.87 - ETA: 1s - loss: 0.3280 - accuracy: 0.87 - ETA: 1s - loss: 0.3272 - accuracy: 0.87 - ETA: 1s - loss: 0.3279 - accuracy: 0.87 - ETA: 1s - loss: 0.3273 - accuracy: 0.87 - ETA: 1s - loss: 0.3285 - accuracy: 0.87 - ETA: 1s - loss: 0.3265 - accuracy: 0.88 - ETA: 1s - loss: 0.3265 - accuracy: 0.88 - ETA: 1s - loss: 0.3273 - accuracy: 0.88 - ETA: 1s - loss: 0.3273 - accuracy: 0.88 - ETA: 1s - loss: 0.3272 - accuracy: 0.88 - ETA: 1s - loss: 0.3274 - accuracy: 0.88 - ETA: 1s - loss: 0.3263 - accuracy: 0.88 - ETA: 1s - loss: 0.3267 - accuracy: 0.88 - ETA: 1s - loss: 0.3286 - accuracy: 0.88 - ETA: 1s - loss: 0.3287 - accuracy: 0.88 - ETA: 1s - loss: 0.3298 - accuracy: 0.87 - ETA: 1s - loss: 0.3304 - accuracy: 0.87 - ETA: 1s - loss: 0.3301 - accuracy: 0.87 - ETA: 0s - loss: 0.3308 - accuracy: 0.87 - ETA: 0s - loss: 0.3296 - accuracy: 0.87 - ETA: 0s - loss: 0.3301 - accuracy: 0.87 - ETA: 0s - loss: 0.3295 - accuracy: 0.87 - ETA: 0s - loss: 0.3292 - accuracy: 0.87 - ETA: 0s - loss: 0.3299 - accuracy: 0.87 - ETA: 0s - loss: 0.3298 - accuracy: 0.87 - ETA: 0s - loss: 0.3301 - accuracy: 0.87 - ETA: 0s - loss: 0.3295 - accuracy: 0.87 - ETA: 0s - loss: 0.3292 - accuracy: 0.87 - ETA: 0s - loss: 0.3297 - accuracy: 0.87 - ETA: 0s - loss: 0.3298 - accuracy: 0.87 - ETA: 0s - loss: 0.3286 - accuracy: 0.87 - ETA: 0s - loss: 0.3278 - accuracy: 0.88 - ETA: 0s - loss: 0.3278 - accuracy: 0.88 - ETA: 0s - loss: 0.3269 - accuracy: 0.88 - ETA: 0s - loss: 0.3267 - accuracy: 0.88 - ETA: 0s - loss: 0.3267 - accuracy: 0.88 - ETA: 0s - loss: 0.3267 - accuracy: 0.88 - ETA: 0s - loss: 0.3262 - accuracy: 0.88 - 3s 2ms/step - loss: 0.3267 - accuracy: 0.8800 - val_loss: 0.3487 - val_accuracy: 0.8752\n",
      "Epoch 4/10\n"
     ]
    },
    {
     "name": "stdout",
     "output_type": "stream",
     "text": [
      "1875/1875 [==============================] - ETA: 0s - loss: 0.2601 - accuracy: 0.90 - ETA: 2s - loss: 0.2737 - accuracy: 0.90 - ETA: 2s - loss: 0.2668 - accuracy: 0.90 - ETA: 2s - loss: 0.2743 - accuracy: 0.89 - ETA: 2s - loss: 0.2780 - accuracy: 0.89 - ETA: 2s - loss: 0.2859 - accuracy: 0.89 - ETA: 2s - loss: 0.2963 - accuracy: 0.88 - ETA: 2s - loss: 0.3010 - accuracy: 0.88 - ETA: 2s - loss: 0.3019 - accuracy: 0.88 - ETA: 2s - loss: 0.3011 - accuracy: 0.88 - ETA: 2s - loss: 0.3002 - accuracy: 0.88 - ETA: 2s - loss: 0.3022 - accuracy: 0.88 - ETA: 2s - loss: 0.3025 - accuracy: 0.88 - ETA: 2s - loss: 0.3022 - accuracy: 0.88 - ETA: 2s - loss: 0.3034 - accuracy: 0.88 - ETA: 1s - loss: 0.3048 - accuracy: 0.88 - ETA: 1s - loss: 0.3030 - accuracy: 0.88 - ETA: 1s - loss: 0.3023 - accuracy: 0.88 - ETA: 1s - loss: 0.3007 - accuracy: 0.88 - ETA: 1s - loss: 0.2995 - accuracy: 0.88 - ETA: 1s - loss: 0.2996 - accuracy: 0.88 - ETA: 1s - loss: 0.2981 - accuracy: 0.88 - ETA: 1s - loss: 0.2974 - accuracy: 0.88 - ETA: 1s - loss: 0.2981 - accuracy: 0.88 - ETA: 1s - loss: 0.2971 - accuracy: 0.88 - ETA: 1s - loss: 0.2981 - accuracy: 0.88 - ETA: 1s - loss: 0.2992 - accuracy: 0.88 - ETA: 1s - loss: 0.2989 - accuracy: 0.88 - ETA: 1s - loss: 0.2995 - accuracy: 0.88 - ETA: 1s - loss: 0.3000 - accuracy: 0.88 - ETA: 1s - loss: 0.2997 - accuracy: 0.88 - ETA: 1s - loss: 0.3006 - accuracy: 0.88 - ETA: 1s - loss: 0.3001 - accuracy: 0.88 - ETA: 1s - loss: 0.2998 - accuracy: 0.88 - ETA: 1s - loss: 0.2993 - accuracy: 0.88 - ETA: 0s - loss: 0.2984 - accuracy: 0.88 - ETA: 0s - loss: 0.2991 - accuracy: 0.88 - ETA: 0s - loss: 0.2981 - accuracy: 0.88 - ETA: 0s - loss: 0.2988 - accuracy: 0.88 - ETA: 0s - loss: 0.3001 - accuracy: 0.88 - ETA: 0s - loss: 0.3009 - accuracy: 0.88 - ETA: 0s - loss: 0.3014 - accuracy: 0.88 - ETA: 0s - loss: 0.3014 - accuracy: 0.88 - ETA: 0s - loss: 0.3013 - accuracy: 0.88 - ETA: 0s - loss: 0.3011 - accuracy: 0.88 - ETA: 0s - loss: 0.3009 - accuracy: 0.88 - ETA: 0s - loss: 0.3014 - accuracy: 0.88 - ETA: 0s - loss: 0.3030 - accuracy: 0.88 - ETA: 0s - loss: 0.3038 - accuracy: 0.88 - ETA: 0s - loss: 0.3035 - accuracy: 0.88 - ETA: 0s - loss: 0.3039 - accuracy: 0.88 - ETA: 0s - loss: 0.3037 - accuracy: 0.88 - ETA: 0s - loss: 0.3036 - accuracy: 0.88 - ETA: 0s - loss: 0.3036 - accuracy: 0.88 - ETA: 0s - loss: 0.3028 - accuracy: 0.88 - 3s 2ms/step - loss: 0.3028 - accuracy: 0.8877 - val_loss: 0.3604 - val_accuracy: 0.8686\n",
      "Epoch 5/10\n",
      "1875/1875 [==============================] - ETA: 0s - loss: 0.4343 - accuracy: 0.84 - ETA: 2s - loss: 0.3224 - accuracy: 0.86 - ETA: 2s - loss: 0.3212 - accuracy: 0.87 - ETA: 2s - loss: 0.3103 - accuracy: 0.87 - ETA: 2s - loss: 0.3068 - accuracy: 0.87 - ETA: 2s - loss: 0.3034 - accuracy: 0.88 - ETA: 2s - loss: 0.2975 - accuracy: 0.88 - ETA: 2s - loss: 0.2968 - accuracy: 0.88 - ETA: 2s - loss: 0.2948 - accuracy: 0.88 - ETA: 2s - loss: 0.2965 - accuracy: 0.88 - ETA: 2s - loss: 0.2955 - accuracy: 0.88 - ETA: 2s - loss: 0.2952 - accuracy: 0.88 - ETA: 2s - loss: 0.2945 - accuracy: 0.88 - ETA: 2s - loss: 0.2935 - accuracy: 0.88 - ETA: 2s - loss: 0.2924 - accuracy: 0.88 - ETA: 2s - loss: 0.2897 - accuracy: 0.88 - ETA: 2s - loss: 0.2891 - accuracy: 0.89 - ETA: 1s - loss: 0.2888 - accuracy: 0.89 - ETA: 1s - loss: 0.2889 - accuracy: 0.89 - ETA: 1s - loss: 0.2892 - accuracy: 0.89 - ETA: 1s - loss: 0.2910 - accuracy: 0.89 - ETA: 1s - loss: 0.2892 - accuracy: 0.89 - ETA: 1s - loss: 0.2889 - accuracy: 0.89 - ETA: 1s - loss: 0.2873 - accuracy: 0.89 - ETA: 1s - loss: 0.2866 - accuracy: 0.89 - ETA: 1s - loss: 0.2840 - accuracy: 0.89 - ETA: 1s - loss: 0.2840 - accuracy: 0.89 - ETA: 1s - loss: 0.2846 - accuracy: 0.89 - ETA: 1s - loss: 0.2844 - accuracy: 0.89 - ETA: 1s - loss: 0.2848 - accuracy: 0.89 - ETA: 1s - loss: 0.2854 - accuracy: 0.89 - ETA: 1s - loss: 0.2851 - accuracy: 0.89 - ETA: 1s - loss: 0.2856 - accuracy: 0.89 - ETA: 1s - loss: 0.2848 - accuracy: 0.89 - ETA: 1s - loss: 0.2856 - accuracy: 0.89 - ETA: 1s - loss: 0.2853 - accuracy: 0.89 - ETA: 1s - loss: 0.2849 - accuracy: 0.89 - ETA: 0s - loss: 0.2841 - accuracy: 0.89 - ETA: 0s - loss: 0.2844 - accuracy: 0.89 - ETA: 0s - loss: 0.2841 - accuracy: 0.89 - ETA: 0s - loss: 0.2836 - accuracy: 0.89 - ETA: 0s - loss: 0.2832 - accuracy: 0.89 - ETA: 0s - loss: 0.2838 - accuracy: 0.89 - ETA: 0s - loss: 0.2827 - accuracy: 0.89 - ETA: 0s - loss: 0.2840 - accuracy: 0.89 - ETA: 0s - loss: 0.2843 - accuracy: 0.89 - ETA: 0s - loss: 0.2838 - accuracy: 0.89 - ETA: 0s - loss: 0.2848 - accuracy: 0.89 - ETA: 0s - loss: 0.2847 - accuracy: 0.89 - ETA: 0s - loss: 0.2846 - accuracy: 0.89 - ETA: 0s - loss: 0.2845 - accuracy: 0.89 - ETA: 0s - loss: 0.2845 - accuracy: 0.89 - ETA: 0s - loss: 0.2845 - accuracy: 0.89 - ETA: 0s - loss: 0.2844 - accuracy: 0.89 - ETA: 0s - loss: 0.2841 - accuracy: 0.89 - ETA: 0s - loss: 0.2842 - accuracy: 0.89 - 3s 2ms/step - loss: 0.2843 - accuracy: 0.8946 - val_loss: 0.3587 - val_accuracy: 0.8701\n",
      "Epoch 6/10\n",
      "1875/1875 [==============================] - ETA: 0s - loss: 0.3117 - accuracy: 0.87 - ETA: 2s - loss: 0.2392 - accuracy: 0.90 - ETA: 2s - loss: 0.2613 - accuracy: 0.89 - ETA: 2s - loss: 0.2648 - accuracy: 0.89 - ETA: 2s - loss: 0.2738 - accuracy: 0.89 - ETA: 2s - loss: 0.2743 - accuracy: 0.89 - ETA: 2s - loss: 0.2763 - accuracy: 0.89 - ETA: 2s - loss: 0.2782 - accuracy: 0.89 - ETA: 2s - loss: 0.2791 - accuracy: 0.89 - ETA: 2s - loss: 0.2802 - accuracy: 0.89 - ETA: 2s - loss: 0.2774 - accuracy: 0.89 - ETA: 2s - loss: 0.2800 - accuracy: 0.89 - ETA: 2s - loss: 0.2801 - accuracy: 0.89 - ETA: 2s - loss: 0.2771 - accuracy: 0.89 - ETA: 2s - loss: 0.2744 - accuracy: 0.89 - ETA: 1s - loss: 0.2736 - accuracy: 0.89 - ETA: 1s - loss: 0.2744 - accuracy: 0.89 - ETA: 1s - loss: 0.2721 - accuracy: 0.89 - ETA: 1s - loss: 0.2720 - accuracy: 0.89 - ETA: 1s - loss: 0.2716 - accuracy: 0.89 - ETA: 1s - loss: 0.2727 - accuracy: 0.89 - ETA: 1s - loss: 0.2718 - accuracy: 0.89 - ETA: 1s - loss: 0.2712 - accuracy: 0.89 - ETA: 1s - loss: 0.2721 - accuracy: 0.89 - ETA: 1s - loss: 0.2703 - accuracy: 0.90 - ETA: 1s - loss: 0.2699 - accuracy: 0.90 - ETA: 1s - loss: 0.2704 - accuracy: 0.90 - ETA: 1s - loss: 0.2701 - accuracy: 0.90 - ETA: 1s - loss: 0.2702 - accuracy: 0.90 - ETA: 1s - loss: 0.2706 - accuracy: 0.89 - ETA: 1s - loss: 0.2699 - accuracy: 0.89 - ETA: 1s - loss: 0.2708 - accuracy: 0.89 - ETA: 1s - loss: 0.2705 - accuracy: 0.89 - ETA: 1s - loss: 0.2703 - accuracy: 0.89 - ETA: 1s - loss: 0.2710 - accuracy: 0.89 - ETA: 0s - loss: 0.2711 - accuracy: 0.89 - ETA: 0s - loss: 0.2712 - accuracy: 0.89 - ETA: 0s - loss: 0.2708 - accuracy: 0.89 - ETA: 0s - loss: 0.2712 - accuracy: 0.89 - ETA: 0s - loss: 0.2700 - accuracy: 0.89 - ETA: 0s - loss: 0.2697 - accuracy: 0.89 - ETA: 0s - loss: 0.2696 - accuracy: 0.89 - ETA: 0s - loss: 0.2706 - accuracy: 0.89 - ETA: 0s - loss: 0.2714 - accuracy: 0.89 - ETA: 0s - loss: 0.2713 - accuracy: 0.89 - ETA: 0s - loss: 0.2710 - accuracy: 0.89 - ETA: 0s - loss: 0.2704 - accuracy: 0.89 - ETA: 0s - loss: 0.2709 - accuracy: 0.89 - ETA: 0s - loss: 0.2712 - accuracy: 0.89 - ETA: 0s - loss: 0.2715 - accuracy: 0.89 - ETA: 0s - loss: 0.2723 - accuracy: 0.89 - ETA: 0s - loss: 0.2720 - accuracy: 0.89 - ETA: 0s - loss: 0.2718 - accuracy: 0.89 - ETA: 0s - loss: 0.2715 - accuracy: 0.89 - ETA: 0s - loss: 0.2712 - accuracy: 0.89 - 3s 2ms/step - loss: 0.2710 - accuracy: 0.8991 - val_loss: 0.3484 - val_accuracy: 0.8806\n",
      "Epoch 7/10\n"
     ]
    },
    {
     "name": "stdout",
     "output_type": "stream",
     "text": [
      "1875/1875 [==============================] - ETA: 0s - loss: 0.4509 - accuracy: 0.81 - ETA: 2s - loss: 0.2445 - accuracy: 0.89 - ETA: 2s - loss: 0.2471 - accuracy: 0.90 - ETA: 2s - loss: 0.2543 - accuracy: 0.90 - ETA: 2s - loss: 0.2581 - accuracy: 0.89 - ETA: 2s - loss: 0.2563 - accuracy: 0.90 - ETA: 2s - loss: 0.2540 - accuracy: 0.90 - ETA: 2s - loss: 0.2575 - accuracy: 0.89 - ETA: 2s - loss: 0.2550 - accuracy: 0.90 - ETA: 2s - loss: 0.2571 - accuracy: 0.90 - ETA: 2s - loss: 0.2557 - accuracy: 0.90 - ETA: 2s - loss: 0.2554 - accuracy: 0.90 - ETA: 2s - loss: 0.2537 - accuracy: 0.90 - ETA: 2s - loss: 0.2543 - accuracy: 0.90 - ETA: 1s - loss: 0.2547 - accuracy: 0.90 - ETA: 1s - loss: 0.2535 - accuracy: 0.90 - ETA: 1s - loss: 0.2540 - accuracy: 0.90 - ETA: 1s - loss: 0.2541 - accuracy: 0.90 - ETA: 1s - loss: 0.2568 - accuracy: 0.90 - ETA: 1s - loss: 0.2555 - accuracy: 0.90 - ETA: 1s - loss: 0.2546 - accuracy: 0.90 - ETA: 1s - loss: 0.2555 - accuracy: 0.90 - ETA: 1s - loss: 0.2562 - accuracy: 0.90 - ETA: 1s - loss: 0.2561 - accuracy: 0.90 - ETA: 1s - loss: 0.2567 - accuracy: 0.90 - ETA: 1s - loss: 0.2556 - accuracy: 0.90 - ETA: 1s - loss: 0.2553 - accuracy: 0.90 - ETA: 1s - loss: 0.2553 - accuracy: 0.90 - ETA: 1s - loss: 0.2555 - accuracy: 0.90 - ETA: 1s - loss: 0.2549 - accuracy: 0.90 - ETA: 1s - loss: 0.2541 - accuracy: 0.90 - ETA: 1s - loss: 0.2539 - accuracy: 0.90 - ETA: 1s - loss: 0.2544 - accuracy: 0.90 - ETA: 1s - loss: 0.2541 - accuracy: 0.90 - ETA: 1s - loss: 0.2544 - accuracy: 0.90 - ETA: 0s - loss: 0.2550 - accuracy: 0.90 - ETA: 0s - loss: 0.2552 - accuracy: 0.90 - ETA: 0s - loss: 0.2554 - accuracy: 0.90 - ETA: 0s - loss: 0.2554 - accuracy: 0.90 - ETA: 0s - loss: 0.2551 - accuracy: 0.90 - ETA: 0s - loss: 0.2552 - accuracy: 0.90 - ETA: 0s - loss: 0.2562 - accuracy: 0.90 - ETA: 0s - loss: 0.2569 - accuracy: 0.90 - ETA: 0s - loss: 0.2572 - accuracy: 0.90 - ETA: 0s - loss: 0.2575 - accuracy: 0.90 - ETA: 0s - loss: 0.2573 - accuracy: 0.90 - ETA: 0s - loss: 0.2584 - accuracy: 0.90 - ETA: 0s - loss: 0.2583 - accuracy: 0.90 - ETA: 0s - loss: 0.2577 - accuracy: 0.90 - ETA: 0s - loss: 0.2577 - accuracy: 0.90 - ETA: 0s - loss: 0.2571 - accuracy: 0.90 - ETA: 0s - loss: 0.2579 - accuracy: 0.90 - ETA: 0s - loss: 0.2584 - accuracy: 0.90 - ETA: 0s - loss: 0.2590 - accuracy: 0.90 - 3s 2ms/step - loss: 0.2587 - accuracy: 0.9040 - val_loss: 0.3340 - val_accuracy: 0.8793\n",
      "Epoch 8/10\n",
      "1875/1875 [==============================] - ETA: 0s - loss: 0.2046 - accuracy: 0.96 - ETA: 2s - loss: 0.2402 - accuracy: 0.90 - ETA: 2s - loss: 0.2424 - accuracy: 0.91 - ETA: 2s - loss: 0.2410 - accuracy: 0.91 - ETA: 2s - loss: 0.2340 - accuracy: 0.91 - ETA: 2s - loss: 0.2421 - accuracy: 0.90 - ETA: 2s - loss: 0.2397 - accuracy: 0.90 - ETA: 2s - loss: 0.2411 - accuracy: 0.90 - ETA: 2s - loss: 0.2421 - accuracy: 0.90 - ETA: 2s - loss: 0.2395 - accuracy: 0.90 - ETA: 2s - loss: 0.2406 - accuracy: 0.90 - ETA: 2s - loss: 0.2394 - accuracy: 0.90 - ETA: 2s - loss: 0.2433 - accuracy: 0.90 - ETA: 2s - loss: 0.2423 - accuracy: 0.90 - ETA: 1s - loss: 0.2414 - accuracy: 0.90 - ETA: 1s - loss: 0.2414 - accuracy: 0.90 - ETA: 1s - loss: 0.2416 - accuracy: 0.90 - ETA: 1s - loss: 0.2429 - accuracy: 0.90 - ETA: 1s - loss: 0.2427 - accuracy: 0.90 - ETA: 1s - loss: 0.2436 - accuracy: 0.90 - ETA: 1s - loss: 0.2424 - accuracy: 0.90 - ETA: 1s - loss: 0.2417 - accuracy: 0.90 - ETA: 1s - loss: 0.2407 - accuracy: 0.91 - ETA: 1s - loss: 0.2416 - accuracy: 0.90 - ETA: 1s - loss: 0.2409 - accuracy: 0.90 - ETA: 1s - loss: 0.2410 - accuracy: 0.90 - ETA: 1s - loss: 0.2413 - accuracy: 0.90 - ETA: 1s - loss: 0.2435 - accuracy: 0.90 - ETA: 1s - loss: 0.2430 - accuracy: 0.90 - ETA: 1s - loss: 0.2439 - accuracy: 0.90 - ETA: 1s - loss: 0.2433 - accuracy: 0.90 - ETA: 1s - loss: 0.2432 - accuracy: 0.90 - ETA: 1s - loss: 0.2436 - accuracy: 0.90 - ETA: 1s - loss: 0.2432 - accuracy: 0.90 - ETA: 0s - loss: 0.2430 - accuracy: 0.90 - ETA: 0s - loss: 0.2432 - accuracy: 0.90 - ETA: 0s - loss: 0.2438 - accuracy: 0.90 - ETA: 0s - loss: 0.2445 - accuracy: 0.90 - ETA: 0s - loss: 0.2445 - accuracy: 0.90 - ETA: 0s - loss: 0.2445 - accuracy: 0.90 - ETA: 0s - loss: 0.2445 - accuracy: 0.90 - ETA: 0s - loss: 0.2451 - accuracy: 0.90 - ETA: 0s - loss: 0.2451 - accuracy: 0.90 - ETA: 0s - loss: 0.2456 - accuracy: 0.90 - ETA: 0s - loss: 0.2455 - accuracy: 0.90 - ETA: 0s - loss: 0.2458 - accuracy: 0.90 - ETA: 0s - loss: 0.2458 - accuracy: 0.90 - ETA: 0s - loss: 0.2469 - accuracy: 0.90 - ETA: 0s - loss: 0.2474 - accuracy: 0.90 - ETA: 0s - loss: 0.2470 - accuracy: 0.90 - ETA: 0s - loss: 0.2475 - accuracy: 0.90 - ETA: 0s - loss: 0.2475 - accuracy: 0.90 - ETA: 0s - loss: 0.2474 - accuracy: 0.90 - ETA: 0s - loss: 0.2472 - accuracy: 0.90 - 3s 2ms/step - loss: 0.2473 - accuracy: 0.9078 - val_loss: 0.3413 - val_accuracy: 0.8827\n",
      "Epoch 9/10\n",
      "1875/1875 [==============================] - ETA: 0s - loss: 0.4073 - accuracy: 0.87 - ETA: 2s - loss: 0.2680 - accuracy: 0.90 - ETA: 2s - loss: 0.2532 - accuracy: 0.91 - ETA: 2s - loss: 0.2396 - accuracy: 0.91 - ETA: 2s - loss: 0.2385 - accuracy: 0.91 - ETA: 2s - loss: 0.2386 - accuracy: 0.91 - ETA: 2s - loss: 0.2367 - accuracy: 0.91 - ETA: 2s - loss: 0.2360 - accuracy: 0.91 - ETA: 2s - loss: 0.2330 - accuracy: 0.91 - ETA: 2s - loss: 0.2361 - accuracy: 0.91 - ETA: 2s - loss: 0.2374 - accuracy: 0.91 - ETA: 2s - loss: 0.2377 - accuracy: 0.91 - ETA: 2s - loss: 0.2365 - accuracy: 0.91 - ETA: 2s - loss: 0.2384 - accuracy: 0.91 - ETA: 2s - loss: 0.2383 - accuracy: 0.91 - ETA: 2s - loss: 0.2373 - accuracy: 0.91 - ETA: 1s - loss: 0.2352 - accuracy: 0.91 - ETA: 1s - loss: 0.2369 - accuracy: 0.91 - ETA: 1s - loss: 0.2399 - accuracy: 0.91 - ETA: 1s - loss: 0.2379 - accuracy: 0.91 - ETA: 1s - loss: 0.2379 - accuracy: 0.91 - ETA: 1s - loss: 0.2379 - accuracy: 0.91 - ETA: 1s - loss: 0.2387 - accuracy: 0.91 - ETA: 1s - loss: 0.2383 - accuracy: 0.91 - ETA: 1s - loss: 0.2374 - accuracy: 0.91 - ETA: 1s - loss: 0.2370 - accuracy: 0.91 - ETA: 1s - loss: 0.2378 - accuracy: 0.91 - ETA: 1s - loss: 0.2379 - accuracy: 0.91 - ETA: 1s - loss: 0.2366 - accuracy: 0.91 - ETA: 1s - loss: 0.2361 - accuracy: 0.91 - ETA: 1s - loss: 0.2367 - accuracy: 0.91 - ETA: 1s - loss: 0.2372 - accuracy: 0.91 - ETA: 1s - loss: 0.2375 - accuracy: 0.91 - ETA: 1s - loss: 0.2378 - accuracy: 0.91 - ETA: 1s - loss: 0.2379 - accuracy: 0.91 - ETA: 0s - loss: 0.2386 - accuracy: 0.91 - ETA: 0s - loss: 0.2389 - accuracy: 0.91 - ETA: 0s - loss: 0.2383 - accuracy: 0.91 - ETA: 0s - loss: 0.2385 - accuracy: 0.91 - ETA: 0s - loss: 0.2389 - accuracy: 0.91 - ETA: 0s - loss: 0.2389 - accuracy: 0.91 - ETA: 0s - loss: 0.2388 - accuracy: 0.91 - ETA: 0s - loss: 0.2385 - accuracy: 0.91 - ETA: 0s - loss: 0.2384 - accuracy: 0.91 - ETA: 0s - loss: 0.2379 - accuracy: 0.91 - ETA: 0s - loss: 0.2378 - accuracy: 0.91 - ETA: 0s - loss: 0.2374 - accuracy: 0.91 - ETA: 0s - loss: 0.2380 - accuracy: 0.91 - ETA: 0s - loss: 0.2376 - accuracy: 0.91 - ETA: 0s - loss: 0.2378 - accuracy: 0.91 - ETA: 0s - loss: 0.2381 - accuracy: 0.91 - ETA: 0s - loss: 0.2381 - accuracy: 0.91 - ETA: 0s - loss: 0.2381 - accuracy: 0.91 - ETA: 0s - loss: 0.2379 - accuracy: 0.91 - ETA: 0s - loss: 0.2375 - accuracy: 0.91 - 3s 2ms/step - loss: 0.2376 - accuracy: 0.9109 - val_loss: 0.3567 - val_accuracy: 0.8755\n",
      "Epoch 10/10\n"
     ]
    },
    {
     "name": "stdout",
     "output_type": "stream",
     "text": [
      "1875/1875 [==============================] - ETA: 0s - loss: 0.1121 - accuracy: 0.96 - ETA: 2s - loss: 0.1838 - accuracy: 0.93 - ETA: 2s - loss: 0.1995 - accuracy: 0.92 - ETA: 2s - loss: 0.2136 - accuracy: 0.92 - ETA: 2s - loss: 0.2140 - accuracy: 0.92 - ETA: 2s - loss: 0.2203 - accuracy: 0.91 - ETA: 2s - loss: 0.2259 - accuracy: 0.91 - ETA: 2s - loss: 0.2278 - accuracy: 0.91 - ETA: 2s - loss: 0.2265 - accuracy: 0.91 - ETA: 2s - loss: 0.2260 - accuracy: 0.91 - ETA: 2s - loss: 0.2247 - accuracy: 0.91 - ETA: 2s - loss: 0.2282 - accuracy: 0.91 - ETA: 2s - loss: 0.2285 - accuracy: 0.91 - ETA: 2s - loss: 0.2307 - accuracy: 0.91 - ETA: 2s - loss: 0.2311 - accuracy: 0.91 - ETA: 2s - loss: 0.2301 - accuracy: 0.91 - ETA: 1s - loss: 0.2282 - accuracy: 0.91 - ETA: 1s - loss: 0.2291 - accuracy: 0.91 - ETA: 1s - loss: 0.2277 - accuracy: 0.91 - ETA: 1s - loss: 0.2273 - accuracy: 0.91 - ETA: 1s - loss: 0.2267 - accuracy: 0.91 - ETA: 1s - loss: 0.2256 - accuracy: 0.91 - ETA: 1s - loss: 0.2278 - accuracy: 0.91 - ETA: 1s - loss: 0.2271 - accuracy: 0.91 - ETA: 1s - loss: 0.2277 - accuracy: 0.91 - ETA: 1s - loss: 0.2273 - accuracy: 0.91 - ETA: 1s - loss: 0.2274 - accuracy: 0.91 - ETA: 1s - loss: 0.2267 - accuracy: 0.91 - ETA: 1s - loss: 0.2272 - accuracy: 0.91 - ETA: 1s - loss: 0.2265 - accuracy: 0.91 - ETA: 1s - loss: 0.2260 - accuracy: 0.91 - ETA: 1s - loss: 0.2264 - accuracy: 0.91 - ETA: 1s - loss: 0.2260 - accuracy: 0.91 - ETA: 1s - loss: 0.2269 - accuracy: 0.91 - ETA: 1s - loss: 0.2263 - accuracy: 0.91 - ETA: 1s - loss: 0.2259 - accuracy: 0.91 - ETA: 0s - loss: 0.2271 - accuracy: 0.91 - ETA: 0s - loss: 0.2280 - accuracy: 0.91 - ETA: 0s - loss: 0.2287 - accuracy: 0.91 - ETA: 0s - loss: 0.2293 - accuracy: 0.91 - ETA: 0s - loss: 0.2287 - accuracy: 0.91 - ETA: 0s - loss: 0.2290 - accuracy: 0.91 - ETA: 0s - loss: 0.2294 - accuracy: 0.91 - ETA: 0s - loss: 0.2289 - accuracy: 0.91 - ETA: 0s - loss: 0.2291 - accuracy: 0.91 - ETA: 0s - loss: 0.2293 - accuracy: 0.91 - ETA: 0s - loss: 0.2297 - accuracy: 0.91 - ETA: 0s - loss: 0.2294 - accuracy: 0.91 - ETA: 0s - loss: 0.2293 - accuracy: 0.91 - ETA: 0s - loss: 0.2293 - accuracy: 0.91 - ETA: 0s - loss: 0.2292 - accuracy: 0.91 - ETA: 0s - loss: 0.2290 - accuracy: 0.91 - ETA: 0s - loss: 0.2294 - accuracy: 0.91 - ETA: 0s - loss: 0.2296 - accuracy: 0.91 - ETA: 0s - loss: 0.2292 - accuracy: 0.91 - ETA: 0s - loss: 0.2291 - accuracy: 0.91 - 3s 2ms/step - loss: 0.2293 - accuracy: 0.9134 - val_loss: 0.3373 - val_accuracy: 0.8839\n"
     ]
    },
    {
     "data": {
      "text/plain": [
       "<tensorflow.python.keras.callbacks.History at 0x7f3ea01eee10>"
      ]
     },
     "execution_count": 10,
     "metadata": {},
     "output_type": "execute_result"
    }
   ],
   "source": [
    "# Build the model with the optimal hyperparameters and train it on the data\n",
    "model = tuner.hypermodel.build(best_hps)\n",
    "model.fit(img_train, label_train, epochs = 10, validation_data = (img_test, label_test))"
   ]
  },
  {
   "cell_type": "markdown",
   "metadata": {
    "colab_type": "text",
    "id": "EQRpPHZsz-eC"
   },
   "source": [
    "The `my_dir/intro_to_kt` directory contains detailed logs and checkpoints for every trial (model configuration) run during the hyperparameter search. If you re-run the hyperparameter search, the Keras Tuner uses the existing state from these logs to resume the search. To disable this behavior, pass an additional `overwrite = True` argument while instantiating the tuner."
   ]
  },
  {
   "cell_type": "markdown",
   "metadata": {
    "colab_type": "text",
    "id": "sKwLOzKpFGAj"
   },
   "source": [
    "## Summary\n",
    "\n",
    "In this tutorial, you learned how to use the Keras Tuner to tune hyperparameters for a model. To learn more about the Keras Tuner, check out these additional resources:\n",
    "\n",
    "* [Keras Tuner on the TensorFlow blog](https://blog.tensorflow.org/2020/01/hyperparameter-tuning-with-keras-tuner.html)\n",
    "* [Keras Tuner website](https://keras-team.github.io/keras-tuner/)\n",
    "\n",
    "Also check out the [HParams Dashboard](https://www.tensorflow.org/tensorboard/hyperparameter_tuning_with_hparams) in TensorBoard to interactively tune your model hyperparameters."
   ]
  }
 ],
 "metadata": {
  "colab": {
   "collapsed_sections": [
    "Tce3stUlHN0L"
   ],
   "name": "keras_tuner.ipynb",
   "private_outputs": true,
   "provenance": [],
   "toc_visible": true
  },
  "kernelspec": {
   "display_name": "Python 3",
   "language": "python",
   "name": "python3"
  },
  "language_info": {
   "codemirror_mode": {
    "name": "ipython",
    "version": 3
   },
   "file_extension": ".py",
   "mimetype": "text/x-python",
   "name": "python",
   "nbconvert_exporter": "python",
   "pygments_lexer": "ipython3",
   "version": "3.7.7"
  }
 },
 "nbformat": 4,
 "nbformat_minor": 1
}